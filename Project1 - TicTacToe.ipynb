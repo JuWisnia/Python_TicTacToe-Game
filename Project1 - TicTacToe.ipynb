{
 "cells": [
  {
   "cell_type": "markdown",
   "metadata": {},
   "source": [
    "# Python Project - Tic Tac Toe Game"
   ]
  },
  {
   "cell_type": "markdown",
   "metadata": {},
   "source": [
    "## Basic assumptions:"
   ]
  },
  {
   "cell_type": "markdown",
   "metadata": {},
   "source": [
    "- 2 players should be able to play the game (both sitting at the same computer)\n",
    "- the board should be printed out every time a plater makes a move\n",
    "- input of the player postion should be accept and place as a sumbol on the board"
   ]
  },
  {
   "cell_type": "markdown",
   "metadata": {},
   "source": [
    "### Begin of the game - welcome screen"
   ]
  },
  {
   "cell_type": "code",
   "execution_count": 17,
   "metadata": {},
   "outputs": [],
   "source": [
    "def welcome():\n",
    "    print (\"Welcome to Tic Tac Toe Game!\")"
   ]
  },
  {
   "cell_type": "markdown",
   "metadata": {},
   "source": [
    "### Start of the game - asking player if he wants to start"
   ]
  },
  {
   "cell_type": "code",
   "execution_count": 3,
   "metadata": {},
   "outputs": [],
   "source": [
    "def start_game():\n",
    "    \n",
    "    decision = \"\"\n",
    "    should_continue = False\n",
    "    \n",
    "    print(\"If you want to playe a game, write Y, and if you are not interested, let me know by writing N \\n\")\n",
    "        \n",
    "        \n",
    "    # CHECKING IF PLAYER WANTS TO ACTUALLY PLAY THE GAME\n",
    "    \n",
    "    while should_continue == False:\n",
    "               \n",
    "        decision = input(\"Do you wanna play? \").upper()\n",
    "        \n",
    "        if decision == \"Y\":\n",
    "            print(\"Great! Let's get started \")\n",
    "            should_continue = True\n",
    "            return True\n",
    "            \n",
    "        elif decision == \"N\":\n",
    "            print(\"Oh. That's alright. See you next time! \")\n",
    "            should_continue =True\n",
    "            return False\n",
    "        \n",
    "        else:\n",
    "            print(\"Sorry, but I don't understand. Please write Y or N \")"
   ]
  },
  {
   "cell_type": "markdown",
   "metadata": {},
   "source": [
    "### Making player choose marker"
   ]
  },
  {
   "cell_type": "code",
   "execution_count": 4,
   "metadata": {},
   "outputs": [],
   "source": [
    "def player_input():\n",
    "    \n",
    "    marker = \"\"\n",
    "    \n",
    "    #KEEP ASKING PLAYER 1 TO CHOOSE X OR O\n",
    "    \n",
    "    while marker != \"X\" and marker != \"O\":\n",
    "        marker = input(\"Player 1, choose X or O: \").upper()\n",
    "        \n",
    "    \n",
    "    #ASSIGN PLAYER 2, THE OPPOSITE MARKER\n",
    "    \n",
    "    if marker == \"X\":\n",
    "\n",
    "        return (\"X\", \"O\")\n",
    "   \n",
    "    else:\n",
    "\n",
    "        return(\"O\", \"X\")\n",
    "        "
   ]
  },
  {
   "cell_type": "markdown",
   "metadata": {},
   "source": [
    "### Creating a board and presenting it to the players"
   ]
  },
  {
   "cell_type": "code",
   "execution_count": 6,
   "metadata": {},
   "outputs": [],
   "source": [
    "from IPython.display import clear_output\n",
    "\n",
    "board = []\n",
    "\n",
    "def display_board(board):\n",
    "    \n",
    "    clear_output()\n",
    "     \n",
    "    print('   |   |')\n",
    "    print(' ' + board[7] + ' | ' + board[8] + ' | ' + board[9])\n",
    "    print('   |   |')\n",
    "    print('-----------')\n",
    "    print('   |   |')\n",
    "    print(' ' + board[4] + ' | ' + board[5] + ' | ' + board[6])\n",
    "    print('   |   |')\n",
    "    print('-----------')\n",
    "    print('   |   |')\n",
    "    print(' ' + board[1] + ' | ' + board[2] + ' | ' + board[3])\n",
    "    print('   |   |')"
   ]
  },
  {
   "cell_type": "markdown",
   "metadata": {},
   "source": [
    "### Placing marker on the board"
   ]
  },
  {
   "cell_type": "code",
   "execution_count": 7,
   "metadata": {},
   "outputs": [],
   "source": [
    "def place_marker(board, marker, position):\n",
    "\n",
    "    board[position] = marker\n"
   ]
  },
  {
   "cell_type": "markdown",
   "metadata": {},
   "source": [
    "### Checking if one of the players had win"
   ]
  },
  {
   "cell_type": "code",
   "execution_count": 8,
   "metadata": {},
   "outputs": [],
   "source": [
    "def win_check(board, mark):\n",
    "    \n",
    "    return (\n",
    "    # is there a win in row?\n",
    "    (board[1] == board[2] == board[3] == mark) or\n",
    "    (board[4] == board[5] == board[6] == mark) or\n",
    "    (board[7] == board[8] == board[9] == mark) or\n",
    "    \n",
    "    # is there a win in a column?\n",
    "    (board[1] == board[4] == board[7] == mark) or\n",
    "    (board[2] == board[5] == board[8] == mark) or\n",
    "    (board[3] == board[6] == board[9] == mark) or\n",
    "        \n",
    "    # is there a win in a diagonal line?\n",
    "    (board[7] == board[5] == board[3] == mark) or\n",
    "    (board[9] == board[5] == board[1] == mark)\n",
    "    )"
   ]
  },
  {
   "cell_type": "markdown",
   "metadata": {},
   "source": [
    "### Deciding which player goes first"
   ]
  },
  {
   "cell_type": "code",
   "execution_count": 9,
   "metadata": {},
   "outputs": [],
   "source": [
    "import random\n",
    "\n",
    "def choose_first():\n",
    "    number = random.randint(1,100)\n",
    "    \n",
    "    if number % 2 == True:\n",
    "        return \"First goes Player 1\"\n",
    "    else:\n",
    "        return \"Frist goes Player 2\""
   ]
  },
  {
   "cell_type": "markdown",
   "metadata": {},
   "source": [
    "### Checking if space on the board is freely available"
   ]
  },
  {
   "cell_type": "code",
   "execution_count": 10,
   "metadata": {},
   "outputs": [],
   "source": [
    "def space_check(board, position):\n",
    "    return board[position] == \" \""
   ]
  },
  {
   "cell_type": "markdown",
   "metadata": {},
   "source": [
    "### Checking if board is full"
   ]
  },
  {
   "cell_type": "code",
   "execution_count": 13,
   "metadata": {},
   "outputs": [],
   "source": [
    "def full_board_check(board):\n",
    "    \n",
    "    for i in range (1,10):\n",
    "        \n",
    "        # If there is a free space, the board is not full (False)\n",
    "        if space_check(board,i):\n",
    "            return False\n",
    "        \n",
    "        # If there is no free space, the board is full (True)\n",
    "    return True"
   ]
  },
  {
   "cell_type": "markdown",
   "metadata": {},
   "source": [
    "### Asking player for next marker position, and checking if this place is free"
   ]
  },
  {
   "cell_type": "code",
   "execution_count": 14,
   "metadata": {},
   "outputs": [],
   "source": [
    "def player_choice(board):\n",
    "    \n",
    "    position = 0\n",
    "    \n",
    "    while position not in [1,2,3,4,5,6,7,8,9] or not space_check(board, position):\n",
    "        position = int(input(\"Sooo... Where do you want to put your mark? Choose: (1-9) \"))\n",
    "    \n",
    "    return position"
   ]
  },
  {
   "cell_type": "markdown",
   "metadata": {},
   "source": [
    "### Asking players if they want to play again"
   ]
  },
  {
   "cell_type": "code",
   "execution_count": 15,
   "metadata": {},
   "outputs": [],
   "source": [
    "def replay():\n",
    "    \n",
    "    choice = input(\"Do you want to play again? Write Y or N \")\n",
    "        \n",
    "    return choice == 'Yes'"
   ]
  },
  {
   "cell_type": "markdown",
   "metadata": {},
   "source": [
    "## Logic of the Game"
   ]
  },
  {
   "cell_type": "code",
   "execution_count": 16,
   "metadata": {},
   "outputs": [
    {
     "name": "stdout",
     "output_type": "stream",
     "text": [
      "   |   |\n",
      " O | O | X\n",
      "   |   |\n",
      "-----------\n",
      "   |   |\n",
      " X | X | O\n",
      "   |   |\n",
      "-----------\n",
      "   |   |\n",
      " O | X | O\n",
      "   |   |\n",
      "TIE GAME!\n",
      "Do you want to play again? Write Y or N n\n",
      "Sure thing! See you next time ;) \n"
     ]
    }
   ],
   "source": [
    "welcome()\n",
    "\n",
    "# While loop to keep running the game\n",
    "while True:\n",
    "    \n",
    "    # Play the Game\n",
    "    ## Set everything up (board, whos first, markes)\n",
    "    \n",
    "    if start_game() == True:\n",
    "        game_on = True\n",
    "    else:\n",
    "        game_on = False\n",
    "    \n",
    "    the_board = [\" \"]*10   \n",
    "    \n",
    "    player1_marker, player2_marker = player_input()\n",
    "    \n",
    "    turn = choose_first()\n",
    "    print(turn)    \n",
    "    \n",
    "    \n",
    "    \n",
    "    ## Game play\n",
    "    \n",
    "    while game_on:\n",
    "        if turn == \"Player 1\":\n",
    "            \n",
    "        ### Player 1 turn\n",
    "                \n",
    "            #### Show the board        \n",
    "            display_board(the_board)\n",
    "            \n",
    "            #### Choose a position\n",
    "            position = player_choice(the_board)\n",
    "            \n",
    "            #### Place the marker on the position\n",
    "            place_marker(the_board, player1_marker, position)\n",
    "            \n",
    "            #### Check if they won\n",
    "            if win_check(the_board, player1_marker):\n",
    "                display_board(the_board)\n",
    "                print(\"Congratulations! Player 1 has won! \")\n",
    "                game_on = False\n",
    "            \n",
    "            #### Check if there is a tie\n",
    "            else: \n",
    "                if full_board_check(the_board):\n",
    "                    display_board(the_board)\n",
    "                    print(\"TIE GAME!\")\n",
    "                    game_on = False\n",
    "                \n",
    "                    \n",
    "            #### No tie and no win = next player's turn\n",
    "                else:\n",
    "                    turn = \"Player 2\"\n",
    "        \n",
    "        else: \n",
    "        ### Player 2 turn\n",
    "        \n",
    "            #### Show the board        \n",
    "            display_board(the_board)\n",
    "            \n",
    "            #### Choose a position\n",
    "            position = player_choice(the_board)\n",
    "            \n",
    "            #### Place the marker on the position\n",
    "            place_marker(the_board, player2_marker, position)\n",
    "            \n",
    "            #### Check if they won\n",
    "            if win_check(the_board, player2_marker):\n",
    "                display_board(the_board)\n",
    "                print(\"Congratulations! Player 2 has won! \")\n",
    "                game_on = False\n",
    "            \n",
    "            #### Check if there is a tie\n",
    "            else: \n",
    "                if full_board_check(the_board):\n",
    "                    display_board(the_board)\n",
    "                    print(\"TIE GAME!\")\n",
    "                    game_on = False\n",
    "                \n",
    "                    \n",
    "            #### No tie and no win = next player's turn\n",
    "                else:\n",
    "                    turn = \"Player 1\"\n",
    "            \n",
    "            \n",
    "    if not replay():\n",
    "        print(\"Sure thing! See you next time ;) \")\n",
    "        break\n",
    "\n",
    "# Break out of the while loop on replay()"
   ]
  },
  {
   "cell_type": "code",
   "execution_count": null,
   "metadata": {},
   "outputs": [],
   "source": []
  }
 ],
 "metadata": {
  "createdOn": 1716971998949,
  "creator": "Justyna.Wisniewska2.unilever",
  "customFields": {},
  "hide_input": false,
  "kernelspec": {
   "display_name": "Python 3 (ipykernel)",
   "language": "python",
   "name": "python3"
  },
  "language_info": {
   "codemirror_mode": {
    "name": "ipython",
    "version": 3
   },
   "file_extension": ".py",
   "mimetype": "text/x-python",
   "name": "python",
   "nbconvert_exporter": "python",
   "pygments_lexer": "ipython3",
   "version": "3.9.13"
  },
  "modifiedBy": "Justyna.Wisniewska2.unilever",
  "tags": []
 },
 "nbformat": 4,
 "nbformat_minor": 1
}
