{
 "cells": [
  {
   "cell_type": "code",
   "execution_count": 1,
   "id": "5c7287fa",
   "metadata": {},
   "outputs": [],
   "source": [
    "#This is the headline"
   ]
  },
  {
   "cell_type": "code",
   "execution_count": 2,
   "id": "8c4bbaed",
   "metadata": {},
   "outputs": [],
   "source": [
    "## Dupabagging"
   ]
  },
  {
   "cell_type": "code",
   "execution_count": 4,
   "id": "a7a2c928",
   "metadata": {},
   "outputs": [
    {
     "name": "stdout",
     "output_type": "stream",
     "text": [
      "Hello Python\n"
     ]
    }
   ],
   "source": [
    "print(\"Hello Python\")"
   ]
  },
  {
   "cell_type": "code",
   "execution_count": null,
   "id": "14f530dd",
   "metadata": {},
   "outputs": [],
   "source": []
  }
 ],
 "metadata": {
  "kernelspec": {
   "display_name": "Python 3 (ipykernel)",
   "language": "python",
   "name": "python3"
  },
  "language_info": {
   "codemirror_mode": {
    "name": "ipython",
    "version": 3
   },
   "file_extension": ".py",
   "mimetype": "text/x-python",
   "name": "python",
   "nbconvert_exporter": "python",
   "pygments_lexer": "ipython3",
   "version": "3.9.13"
  }
 },
 "nbformat": 4,
 "nbformat_minor": 5
}
